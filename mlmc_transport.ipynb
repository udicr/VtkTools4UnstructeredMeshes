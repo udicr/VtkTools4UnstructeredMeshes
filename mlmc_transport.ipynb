{
 "cells": [
  {
   "cell_type": "code",
   "execution_count": 11,
   "metadata": {
    "pycharm": {
     "is_executing": false
    }
   },
   "outputs": [],
   "source": [
    "%matplotlib inline\n",
    "import subprocess\n",
    "import os\n",
    "import sys\n",
    "sys.path.append('../tools')\n",
    "from plot_statistics import *\n",
    "sys.path.append('../notebooks')\n",
    "from tp_utilities import *\n",
    "from vtk_utilities import *\n",
    "import matplotlib.pyplot as plt\n",
    "from starter import *\n",
    "from mlmc_solution import *\n",
    "\n",
    "\n",
    "import sys\n",
    "sys.path.append('..')\n",
    "from python.mlmc_mppy import Mpp \n",
    "mpp=Mpp()"
   ]
  },
  {
   "cell_type": "code",
   "execution_count": 14,
   "metadata": {},
   "outputs": [
    {
     "name": "stdout",
     "output_type": "stream",
     "text": [
      "\n",
      "================ running cmake ================\n",
      "\n",
      "-- Compiler option -Ofast\n",
      "-- A library with BLAS API found.\n",
      "-- A library with BLAS API found.\n",
      "-- A library with LAPACK API found.\n",
      "-- Using SuperLU 4.0\n",
      "-- Time dependent problem\n",
      "-- 3 dimensional problem\n",
      "-- General transformations\n",
      "-- Configuring done\n",
      "-- Generating done\n",
      "-- Build files have been written to: /home/user/Workspace/mlmc/build\n",
      "\n",
      "================ running  make ================\n",
      "\n",
      "[  2%] Built target gtest\n",
      "[  5%] Built target LIB_PS\n",
      "[ 20%] Built target MLMC\n",
      "[ 82%] Built target SRC\n",
      "[ 83%] Built target gmock\n",
      "[ 85%] Built target gtest_main\n",
      "[ 87%] Built target MLMC-M++\n",
      "[ 89%] Built target gmock_main\n",
      "[ 91%] Built target TestQuadrature\n",
      "[ 93%] Built target TestShape\n",
      "[ 94%] Built target TestConfig\n",
      "[ 98%] Built target TestChainConfig\n",
      "[ 98%] Built target TestCellConstruction\n",
      "[100%] Built target TestCellInterface\n",
      "\n",
      "================ setup cluster ================\n",
      "\n",
      "\n",
      "================ kill every mpp ================\n",
      "\n"
     ]
    },
    {
     "ename": "AttributeError",
     "evalue": "'Mpp' object has no attribute 'show_convergence_table'",
     "output_type": "error",
     "traceback": [
      "\u001b[0;31m---------------------------------------------------------------------------\u001b[0m",
      "\u001b[0;31mAttributeError\u001b[0m                            Traceback (most recent call last)",
      "\u001b[0;32m<ipython-input-14-5282cae28a6a>\u001b[0m in \u001b[0;36m<module>\u001b[0;34m\u001b[0m\n\u001b[1;32m      4\u001b[0m \u001b[0mmpp\u001b[0m\u001b[0;34m.\u001b[0m\u001b[0msetup_cluster\u001b[0m\u001b[0;34m(\u001b[0m\u001b[0;34m)\u001b[0m\u001b[0;34m\u001b[0m\u001b[0;34m\u001b[0m\u001b[0m\n\u001b[1;32m      5\u001b[0m \u001b[0mmpp\u001b[0m\u001b[0;34m.\u001b[0m\u001b[0mkill\u001b[0m\u001b[0;34m(\u001b[0m\u001b[0;34m)\u001b[0m\u001b[0;34m\u001b[0m\u001b[0;34m\u001b[0m\u001b[0m\n\u001b[0;32m----> 6\u001b[0;31m \u001b[0mmpp\u001b[0m\u001b[0;34m.\u001b[0m\u001b[0mshow_convergence_table\u001b[0m\u001b[0;34m(\u001b[0m\u001b[0;34m)\u001b[0m\u001b[0;34m\u001b[0m\u001b[0;34m\u001b[0m\u001b[0m\n\u001b[0m\u001b[1;32m      7\u001b[0m \u001b[0mmpp\u001b[0m\u001b[0;34m.\u001b[0m\u001b[0mshow_mlmc_table\u001b[0m\u001b[0;34m(\u001b[0m\u001b[0;34m)\u001b[0m\u001b[0;34m\u001b[0m\u001b[0;34m\u001b[0m\u001b[0m\n\u001b[1;32m      8\u001b[0m \u001b[0;31m#mpp.run(kernels, config='mlmc_transport', kwargs=kwargs)\u001b[0m\u001b[0;34m\u001b[0m\u001b[0;34m\u001b[0m\u001b[0;34m\u001b[0m\u001b[0m\n",
      "\u001b[0;31mAttributeError\u001b[0m: 'Mpp' object has no attribute 'show_convergence_table'"
     ]
    }
   ],
   "source": [
    "mpp.build()\n",
    "mpp.mute=False\n",
    "mpp.clean_data()\n",
    "mpp.setup_cluster()\n",
    "mpp.kill()\n",
    "mpp.show_convergence_table()\n",
    "mpp.show_mlmc_table()\n",
    "#mpp.run(kernels, config='mlmc_transport', kwargs=kwargs)"
   ]
  },
  {
   "cell_type": "markdown",
   "metadata": {},
   "source": [
    "$ \\textbf{Konvergenz Test} $"
   ]
  },
  {
   "cell_type": "code",
   "execution_count": null,
   "metadata": {},
   "outputs": [
    {
     "name": "stdout",
     "output_type": "stream",
     "text": [
      "Loading file: mlmc_tpconvergencetest.conf\n",
      "start program on 32 procs at Wed Mar 25 21:59:30 2020\n",
      "reading default: logfile................................. log/log\n",
      "reading default: precision............................... 6\n",
      "reading config:  MuteLevel............................... -1\n",
      "reading config:  DebugLevel.............................. -1\n",
      "reading config:  TimeLevel............................... -1\n",
      "reading config:  MainVerbose............................. 1\n",
      "reading config:  epsilon................................. 0.01\n",
      "reading config:  plevel.................................. 3\n",
      "reading config:  maxLevel................................ 9\n",
      "reading config:  degree.................................. 2\n",
      "reading config:  initLevels.............................. 4, 5, 6, 7, 8\n",
      "reading config:  initSampleAmount........................ 100, 100, 100, 100, 100\n",
      "reading config:  epsilonList............................. 0.01, 0.005, 0.003, 0.001\n",
      "reading config:  Problem................................. StochasticPollutionMollifiedBar2D\n",
      "reading config:  Model................................... DGTransport\n",
      "reading config:  StochasticField......................... LogNormal\n",
      "reading config:  Experiment.............................. ConvergenceTest\n",
      "reading config:  uniformSampleAmount..................... 100\n",
      "reading default: GeoPath................................. ../mlmc/conf/geo/\n",
      "reading default: CreateFaceEdges......................... 0\n",
      "reading default: CreateFaceSlips......................... 0\n",
      "reading config:  Overlap................................. dG1\n",
      "reading config:  Distribution............................ RCB\n",
      "reading default: Overlap_Distribution.................... 0\n",
      "reading config:  GeneratorPlotting....................... 0\n",
      "reading config:  GeneratorVerbose........................ 0\n",
      "reading config:  AssembleVerbose......................... 0\n",
      "reading config:  evtol................................... 1e-10\n",
      "reading config:  mean.................................... 1.0\n",
      "reading config:  sigma................................... 1.0\n",
      "reading config:  norm_p.................................. 2\n",
      "reading config:  lambda1................................. 0.1\n",
      "reading config:  lambda2................................. 0.1\n",
      "reading config:  smoothing............................... 1.9\n",
      "reading default: gnuplot................................. 0\n",
      "reading default: dxplot.................................. 0\n",
      "reading default: tecplot................................. 0\n",
      "reading default: vtkplot................................. 0\n",
      "reading default: DataPath................................ data\n",
      "reading config:  flux_alpha.............................. 1\n",
      "reading config:  MLMCPlotting............................ 0\n",
      "reading config:  mcOnly.................................. false\n",
      "reading config:  MLMCVerbose............................. 1\n",
      "reading config:  MCPlotting.............................. 0\n",
      "reading config:  functional.............................. Mass\n",
      "reading config:  MCVerbose............................... 0\n",
      "reading config:  startTime............................... 0.0\n",
      "reading config:  endTime................................. 1.0\n",
      "\n",
      "Main Info:\n",
      "  Problem:          StochasticPollutionMollifiedBar2D\n",
      "  Model:            DGTransport\n",
      "  StochField:       LogNormal\n",
      "  Experiment:       ConvergenceTest\n",
      "\n",
      "\n",
      "MLMC Info:\n",
      "  initLevels:       4 5 6 7 8\n",
      "  initSample:       100 100 100 100 100\n",
      "  maxLevel:         9\n",
      "\n",
      "reading default: MeshVerbose............................. 1\n",
      "\n",
      "Mesh Info:\n",
      "  Name:             reading default: Mesh.................................... \n",
      "0\n",
      "  Level:            9\n",
      "  pLevel:           3\n",
      "  Dimension:        2\n",
      "  Cells:            262144\n",
      "  Vertices:         263169\n",
      "  Edges:            525312\n",
      "  Faces:            545896\n",
      "  Mesh width:       [0.00195312,0.00195312]\n",
      "\n",
      "\n",
      "**********************************************************\n",
      "*** Convergence tests, kurtosis, telescoping sum check ***\n",
      "**********************************************************\n",
      "<Start MLMC Method>\n",
      "reading default: PreconditionerVerbose................... 0\n",
      "reading config:  LinearVerbose........................... -1\n",
      "reading config:  LinearSteps............................. 3000\n",
      "reading default: LinearLineSearchSteps................... 3\n",
      "reading config:  LinearEpsilon........................... 1e-10\n",
      "reading config:  LinearReduction......................... 1e-12\n",
      "reading default: LinearMinimalReduction.................. 1\n",
      "reading default: LinearMinimalStepNumber................. 0\n",
      "reading config:  NewtonVerbose........................... -1\n",
      "reading config:  NewtonSteps............................. 1\n",
      "reading config:  NewtonLineSearchSteps................... 0\n",
      "reading default: NewtonEpsilon........................... 1e-10\n",
      "reading default: NewtonReduction......................... 1e-05\n",
      "reading default: NewtonMinimalReduction.................. 1\n",
      "reading default: NewtonMinimalStepNumber................. 0\n",
      "reading default: NewtonSuppressFirstLineSearch........... 0\n",
      "reading default: NewtonJacobiUpdate...................... 1\n",
      "reading default: PreconditionerDamp...................... 1\n",
      "reading default: plot_tStep.............................. 1\n",
      "reading config:  rkorder................................. -2\n",
      "reading default: Kmin.................................... 2\n",
      "reading config:  Kmax.................................... 250\n",
      "reading config:  Keps.................................... 1e-5\n",
      "reading config:  gamma................................... 0.01\n",
      "reading config:  scaling................................. 8\n"
     ]
    }
   ],
   "source": [
    "ConvergenceTest()"
   ]
  },
  {
   "cell_type": "code",
   "execution_count": null,
   "metadata": {},
   "outputs": [],
   "source": [
    "result = tail(\"../results/mlmcConvergenceTest/log\",n=20)"
   ]
  },
  {
   "cell_type": "code",
   "execution_count": null,
   "metadata": {},
   "outputs": [],
   "source": [
    "statistics = read_log('../results/MlmcConvergenceTest/log')\n",
    "plot_statistics(statistics, ['E[Qf]','V[Qf]'], None)"
   ]
  },
  {
   "cell_type": "code",
   "execution_count": null,
   "metadata": {},
   "outputs": [],
   "source": [
    "statistics"
   ]
  },
  {
   "cell_type": "markdown",
   "metadata": {},
   "source": [
    "$ \\textbf{epsilon = 0.01} $"
   ]
  },
  {
   "cell_type": "code",
   "execution_count": null,
   "metadata": {},
   "outputs": [],
   "source": [
    "mlmcExperiment(epsilon=0.01,initLevels=\"4,5,6,7\", initSampleAmount=\"16,8,4,2\")"
   ]
  },
  {
   "cell_type": "code",
   "execution_count": null,
   "metadata": {},
   "outputs": [],
   "source": [
    "result = tail(\"../results/mlmcExperiment/0.01/log\",n=22)\n",
    "levels, sample_amount = parse_nofsamples(result)"
   ]
  },
  {
   "cell_type": "code",
   "execution_count": null,
   "metadata": {},
   "outputs": [],
   "source": [
    "statistics = read_log('../results/mlmcExperiment/0.01/log')\n",
    "plot_statistics(statistics, ['E[Qf]','V[Qf]'], None)"
   ]
  },
  {
   "cell_type": "code",
   "execution_count": null,
   "metadata": {},
   "outputs": [],
   "source": [
    "statistics"
   ]
  },
  {
   "cell_type": "markdown",
   "metadata": {},
   "source": [
    "$ \\textbf{epsilon = 0.005} $"
   ]
  },
  {
   "cell_type": "code",
   "execution_count": null,
   "metadata": {},
   "outputs": [],
   "source": [
    "mlmcExperiment(epsilon=0.005,initLevels=\"4,5,6,7\", initSampleAmount=\"16,8,4,2\")"
   ]
  },
  {
   "cell_type": "code",
   "execution_count": null,
   "metadata": {},
   "outputs": [],
   "source": [
    "result = tail(\"../results/mlmcExperiment/0.005/log\",n=22)\n",
    "levels, sample_amount = parse_nofsamples(result)"
   ]
  },
  {
   "cell_type": "code",
   "execution_count": null,
   "metadata": {},
   "outputs": [],
   "source": [
    "statistics = read_log('../results/mlmcExperiment/0.005/log')\n",
    "plot_statistics(statistics, ['E[Qf]','V[Qf]'], None)"
   ]
  },
  {
   "cell_type": "code",
   "execution_count": null,
   "metadata": {},
   "outputs": [],
   "source": [
    "statistics"
   ]
  },
  {
   "cell_type": "markdown",
   "metadata": {},
   "source": [
    "$ \\textbf{epsilon = 0.003} $"
   ]
  },
  {
   "cell_type": "code",
   "execution_count": null,
   "metadata": {},
   "outputs": [],
   "source": [
    "mlmcExperiment(epsilon=0.005,initLevels=\"4,5,6,7\", initSampleAmount=\"16,8,4,2\")"
   ]
  },
  {
   "cell_type": "code",
   "execution_count": null,
   "metadata": {},
   "outputs": [],
   "source": [
    "result = tail(\"../results/mlmcExperiment/0.005/log\",n=22)\n",
    "levels, sample_amount = parse_nofsamples(result)"
   ]
  },
  {
   "cell_type": "code",
   "execution_count": null,
   "metadata": {},
   "outputs": [],
   "source": [
    "statistics = read_log('../results/mlmcExperiment/0.005/log')\n",
    "plot_statistics(statistics, ['E[Qf]','V[Qf]'], None)"
   ]
  },
  {
   "cell_type": "code",
   "execution_count": null,
   "metadata": {},
   "outputs": [],
   "source": [
    "statistics"
   ]
  },
  {
   "cell_type": "markdown",
   "metadata": {},
   "source": [
    "$ \\textbf{epsilon = 0.001} $"
   ]
  },
  {
   "cell_type": "code",
   "execution_count": null,
   "metadata": {},
   "outputs": [],
   "source": [
    "mlmcExperiment(epsilon=0.005,initLevels=\"4,5,6,7\", initSampleAmount=\"16,8,4,2\")"
   ]
  },
  {
   "cell_type": "code",
   "execution_count": null,
   "metadata": {},
   "outputs": [],
   "source": [
    "result = tail(\"../results/mlmcExperiment/0.001/log\",n=22)\n",
    "levels, sample_amount = parse_nofsamples(result)"
   ]
  },
  {
   "cell_type": "code",
   "execution_count": null,
   "metadata": {},
   "outputs": [],
   "source": [
    "statistics = read_log('../results/mlmcExperiment/0.001/log')\n",
    "plot_statistics(statistics, ['E[Qf]','V[Qf]'], None)"
   ]
  },
  {
   "cell_type": "code",
   "execution_count": null,
   "metadata": {},
   "outputs": [],
   "source": [
    "statistics"
   ]
  },
  {
   "cell_type": "markdown",
   "metadata": {},
   "source": [
    "$ \\textbf{Beispielsamples}$"
   ]
  },
  {
   "cell_type": "markdown",
   "metadata": {},
   "source": [
    "$ \\textbf{Level 4 (baselevel)} $"
   ]
  },
  {
   "cell_type": "code",
   "execution_count": 6,
   "metadata": {},
   "outputs": [
    {
     "ename": "FileNotFoundError",
     "evalue": "[Errno 2] No such file or directory: '../results/mlmcExperiment/0.001/vtk/sample_4_1/'",
     "output_type": "error",
     "traceback": [
      "\u001b[0;31m---------------------------------------------------------------------------\u001b[0m",
      "\u001b[0;31mFileNotFoundError\u001b[0m                         Traceback (most recent call last)",
      "\u001b[0;32m<ipython-input-6-e060be3af063>\u001b[0m in \u001b[0;36m<module>\u001b[0;34m\u001b[0m\n\u001b[0;32m----> 1\u001b[0;31m \u001b[0msolution_3\u001b[0m\u001b[0;34m(\u001b[0m\u001b[0mwd\u001b[0m\u001b[0;34m=\u001b[0m\u001b[0;34m\"../results/mlmcExperiment/0.001/vtk/\"\u001b[0m\u001b[0;34m,\u001b[0m\u001b[0msample\u001b[0m\u001b[0;34m=\u001b[0m\u001b[0;34m\"sample_4_1/\"\u001b[0m\u001b[0;34m,\u001b[0m\u001b[0mquiver_filter\u001b[0m\u001b[0;34m=\u001b[0m\u001b[0;36m1\u001b[0m\u001b[0;34m,\u001b[0m\u001b[0mquiver_scale\u001b[0m\u001b[0;34m=\u001b[0m\u001b[0;36m0.10\u001b[0m\u001b[0;34m)\u001b[0m\u001b[0;34m\u001b[0m\u001b[0;34m\u001b[0m\u001b[0m\n\u001b[0m",
      "\u001b[0;32m~/Workspace/mlmc/notebooks/vtk_utilities.py\u001b[0m in \u001b[0;36msolution_3\u001b[0;34m(wd, sample, quiver_filter, quiver_scale)\u001b[0m\n\u001b[1;32m    354\u001b[0m \u001b[0;32mdef\u001b[0m \u001b[0msolution_3\u001b[0m\u001b[0;34m(\u001b[0m\u001b[0mwd\u001b[0m \u001b[0;34m=\u001b[0m \u001b[0;34m\"/home/user/Workspace/mlmcExperiment200220/0.01/vtk/\"\u001b[0m\u001b[0;34m,\u001b[0m\u001b[0msample\u001b[0m\u001b[0;34m=\u001b[0m\u001b[0;34m\"sample_7_1/\"\u001b[0m\u001b[0;34m,\u001b[0m\u001b[0mquiver_filter\u001b[0m\u001b[0;34m=\u001b[0m\u001b[0;36m6\u001b[0m\u001b[0;34m,\u001b[0m\u001b[0mquiver_scale\u001b[0m\u001b[0;34m=\u001b[0m\u001b[0;36m0.10\u001b[0m\u001b[0;34m)\u001b[0m\u001b[0;34m:\u001b[0m\u001b[0;34m\u001b[0m\u001b[0;34m\u001b[0m\u001b[0m\n\u001b[1;32m    355\u001b[0m     \u001b[0mvtk_dir\u001b[0m \u001b[0;34m=\u001b[0m \u001b[0mwd\u001b[0m \u001b[0;34m+\u001b[0m \u001b[0msample\u001b[0m\u001b[0;34m\u001b[0m\u001b[0;34m\u001b[0m\u001b[0m\n\u001b[0;32m--> 356\u001b[0;31m     nsol = len([name for name in os.listdir(vtk_dir) if os.path.isfile(os.path.join(vtk_dir, name)) if\n\u001b[0m\u001b[1;32m    357\u001b[0m          \"U.\" in name])\n\u001b[1;32m    358\u001b[0m     \u001b[0mmy_dpi\u001b[0m \u001b[0;34m=\u001b[0m \u001b[0;36m400.0\u001b[0m\u001b[0;34m\u001b[0m\u001b[0;34m\u001b[0m\u001b[0m\n",
      "\u001b[0;31mFileNotFoundError\u001b[0m: [Errno 2] No such file or directory: '../results/mlmcExperiment/0.001/vtk/sample_4_1/'"
     ]
    }
   ],
   "source": [
    "solution_3(wd=\"../results/mlmcExperiment/0.001/vtk/\",sample=\"sample_4_1/\",quiver_filter=1,quiver_scale=0.10)"
   ]
  },
  {
   "cell_type": "markdown",
   "metadata": {},
   "source": [
    "$ \\textbf{Level 5 (und zugehöriges Vergleichssample auf Level 4)} $"
   ]
  },
  {
   "cell_type": "code",
   "execution_count": null,
   "metadata": {
    "scrolled": true
   },
   "outputs": [],
   "source": [
    "solution_3(wd=\"../results/mlmcExperiment/0.001/vtk/\",sample=\"sample_coarse_5_1/\",quiver_filter=1,quiver_scale=0.10)"
   ]
  },
  {
   "cell_type": "code",
   "execution_count": null,
   "metadata": {},
   "outputs": [],
   "source": [
    "solution_3(wd=\"../results/mlmcExperiment/0.001/vtk/\",sample=\"sample_5_1/\",quiver_filter=2,quiver_scale=0.10)"
   ]
  },
  {
   "cell_type": "markdown",
   "metadata": {},
   "source": [
    "$ \\textbf{Level 6 (und zugehöriges Vergleichssample auf Level 5)} $"
   ]
  },
  {
   "cell_type": "code",
   "execution_count": null,
   "metadata": {},
   "outputs": [],
   "source": [
    "solution_3(wd=\"../results/mlmcExperiment/0.001/vtk/\",sample=\"sample_coarse_6_0/\",quiver_filter=2,quiver_scale=0.12)"
   ]
  },
  {
   "cell_type": "code",
   "execution_count": null,
   "metadata": {},
   "outputs": [],
   "source": [
    "solution_3(wd=\"../results/mlmcExperiment/0.001/vtk/\",sample=\"sample_6_0/\",quiver_filter=4,quiver_scale=0.12)"
   ]
  },
  {
   "cell_type": "markdown",
   "metadata": {},
   "source": [
    "$ \\textbf{Level 7 (und zugehöriges Vergleichssample auf Level 6)} $"
   ]
  },
  {
   "cell_type": "code",
   "execution_count": null,
   "metadata": {},
   "outputs": [],
   "source": [
    "solution_3(wd=\"../results/mlmcExperiment/0.001/vtk/\",sample=\"sample_coarse_7_0/\",quiver_filter=4,quiver_scale=0.12)"
   ]
  },
  {
   "cell_type": "code",
   "execution_count": null,
   "metadata": {},
   "outputs": [],
   "source": [
    "solution_3(wd=\"../results/mlmcExperiment/0.001/vtk/\",sample=\"sample_7_0/\",quiver_filter=8,quiver_scale=0.12)"
   ]
  },
  {
   "cell_type": "code",
   "execution_count": null,
   "metadata": {},
   "outputs": [],
   "source": [
    "mlmcmeshes(working_dir=\"../results/mlmcExperiment/0.001/vtk/\",levels=levels,sample_amount=sample_amount)"
   ]
  },
  {
   "cell_type": "markdown",
   "metadata": {},
   "source": [
    "$ \\textbf{Lösung im MLMC Sinne basierend auf gegegebem Zielfunktional (hier Masse zum Zeitpunkt t = 1.0)}$ "
   ]
  },
  {
   "cell_type": "code",
   "execution_count": null,
   "metadata": {
    "pycharm": {
     "is_executing": false
    },
    "scrolled": false
   },
   "outputs": [],
   "source": [
    "solution_3(wd=\"../results/mlmcExperiment/0.001/vtk/\",sample=\"mlmc/\",quiver_filter=8,quiver_scale=0.12)"
   ]
  },
  {
   "cell_type": "code",
   "execution_count": null,
   "metadata": {},
   "outputs": [],
   "source": []
  },
  {
   "cell_type": "code",
   "execution_count": null,
   "metadata": {},
   "outputs": [],
   "source": [
    "\n",
    "    "
   ]
  },
  {
   "cell_type": "code",
   "execution_count": null,
   "metadata": {},
   "outputs": [],
   "source": []
  },
  {
   "cell_type": "code",
   "execution_count": null,
   "metadata": {},
   "outputs": [],
   "source": []
  },
  {
   "cell_type": "code",
   "execution_count": null,
   "metadata": {},
   "outputs": [],
   "source": []
  },
  {
   "cell_type": "code",
   "execution_count": null,
   "metadata": {
    "pycharm": {
     "name": "#%%\n"
    }
   },
   "outputs": [],
   "source": []
  },
  {
   "cell_type": "code",
   "execution_count": null,
   "metadata": {},
   "outputs": [],
   "source": []
  },
  {
   "cell_type": "code",
   "execution_count": null,
   "metadata": {},
   "outputs": [],
   "source": []
  }
 ],
 "metadata": {
  "kernelspec": {
   "display_name": "Python 3",
   "language": "python",
   "name": "python3"
  },
  "language_info": {
   "codemirror_mode": {
    "name": "ipython",
    "version": 3
   },
   "file_extension": ".py",
   "mimetype": "text/x-python",
   "name": "python",
   "nbconvert_exporter": "python",
   "pygments_lexer": "ipython3",
   "version": "3.6.9"
  },
  "pycharm": {
   "stem_cell": {
    "cell_type": "raw",
    "metadata": {
     "collapsed": false
    },
    "source": []
   }
  }
 },
 "nbformat": 4,
 "nbformat_minor": 2
}
